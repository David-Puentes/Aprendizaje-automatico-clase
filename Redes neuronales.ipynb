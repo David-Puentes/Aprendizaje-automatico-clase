{
 "cells": [
  {
   "cell_type": "code",
   "execution_count": 268,
   "metadata": {
    "collapsed": true
   },
   "outputs": [],
   "source": [
    "import pandas as pd\n",
    "import numpy as np\n",
    "import matplotlib.pyplot as plt"
   ]
  },
  {
   "cell_type": "code",
   "execution_count": 248,
   "metadata": {},
   "outputs": [
    {
     "data": {
      "text/plain": [
       "x1    float64\n",
       "x2    float64\n",
       "y1      int64\n",
       "y2      int64\n",
       "y3      int64\n",
       "dtype: object"
      ]
     },
     "execution_count": 248,
     "metadata": {},
     "output_type": "execute_result"
    }
   ],
   "source": [
    "Data=pd.read_csv(\"ANN.csv\",sep=\";\",decimal=\",\")\n",
    "x=Data.drop([\"y1\",\"y2\",\"y3\"],axis=1).values\n",
    "x = np.column_stack((x, np.ones(x.shape[0])*-1)) # Agregar los umbrales\n",
    "y=Data.drop([\"x1\",\"x2\"],axis=1).values\n",
    "np.random.seed(10)\n",
    "Data.dtypes"
   ]
  },
  {
   "cell_type": "code",
   "execution_count": 267,
   "metadata": {},
   "outputs": [
    {
     "name": "stdout",
     "output_type": "stream",
     "text": [
      "Error: 0.5384289455691005\n",
      "Error: 0.12543503874253625\n",
      "Error: 0.05520718646296228\n",
      "Error: 0.039452708691981114\n",
      "Error: 0.03200504922803759\n",
      "Error: 0.027499675206775712\n",
      "Error: 0.024417420201986676\n",
      "Error: 0.02214583800678956\n",
      "Error: 0.020385889727223532\n",
      "Error: 0.018972463017884564\n",
      "Error: 0.01780618136840741\n",
      "Error: 0.016823275928260866\n",
      "Error: 0.015980748070033184\n",
      "Error: 0.015248435609133455\n",
      "Error: 0.014604486801741617\n",
      "Error: 0.014032639594497012\n",
      "Error: 0.013520513740592432\n",
      "Error: 0.01305849897153677\n",
      "Error: 0.012639008362647117\n",
      "Error: 0.01225596330481308\n",
      "Despúes de entrenar\n",
      "[[ 0.98872829  0.00673766  0.01623587]\n",
      " [ 0.990656    0.01512217  0.00606423]\n",
      " [ 0.00748385  0.98378285  0.01412232]\n",
      " [ 0.01850289  0.99342811  0.00574705]\n",
      " [ 0.0106472   0.01422635  0.98353256]\n",
      " [ 0.01016083  0.01362838  0.98421055]]\n"
     ]
    }
   ],
   "source": [
    "# Definición de la función de transferencia\n",
    "def sigmoid ( x,deriv=False):\n",
    "    if deriv == True:\n",
    "        return x*(1-x)\n",
    "    return 1/(1+np.exp(-x))\n",
    "\n",
    "# Definición de los pesos iniciales\n",
    "\n",
    "w0 = 2*np.random.random((2,3)) - 1 # Entrada-Oculta\n",
    "w0 = np.row_stack((w0, np.ones(3)*-1))\n",
    "\n",
    "w1=2*np.random.random((3,3))-1 # Oculta-Salida\n",
    "\n",
    "for i in range(2000):\n",
    "    l0=x\n",
    "    l1=sigmoid(np.dot(l0,w0))\n",
    "    l2=sigmoid(np.dot(l1,w1))\n",
    "    \n",
    "    l2_error= y-l2\n",
    "    \n",
    "    if (i%100)==0:\n",
    "        print(f'Error: {np.mean(np.abs(l2_error))}')\n",
    "    l2_delta=l2_error*sigmoid(l2,deriv=True)\n",
    "    \n",
    "    # Contribución de L1 a L2\n",
    "    \n",
    "    l1_error=np.dot(l2_delta,w1)\n",
    "    l1_delta=l1_error*sigmoid(l1,deriv=True)\n",
    "    \n",
    "    # Actualización de pesos\n",
    "    \n",
    "    w1+=np.dot(l1.T,l2_delta)\n",
    "    w0+=np.dot(l0.T, l1_delta)\n",
    "\n",
    "print(\"Despúes de entrenar\")\n",
    "print(l2)"
   ]
  }
 ],
 "metadata": {
  "kernelspec": {
   "display_name": "Python 3",
   "language": "python",
   "name": "python3"
  },
  "language_info": {
   "codemirror_mode": {
    "name": "ipython",
    "version": 3
   },
   "file_extension": ".py",
   "mimetype": "text/x-python",
   "name": "python",
   "nbconvert_exporter": "python",
   "pygments_lexer": "ipython3",
   "version": "3.6.1"
  }
 },
 "nbformat": 4,
 "nbformat_minor": 2
}
