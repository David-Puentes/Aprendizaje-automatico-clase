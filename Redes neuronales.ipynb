{
 "cells": [
  {
   "cell_type": "code",
   "execution_count": 1,
   "metadata": {
    "collapsed": true
   },
   "outputs": [],
   "source": [
    "import pandas as pd\n",
    "import numpy as np\n",
    "import matplotlib.pyplot as plt"
   ]
  },
  {
   "cell_type": "code",
   "execution_count": 5,
   "metadata": {},
   "outputs": [],
   "source": [
    "Data=pd.read_csv(\"ANN.csv\",sep=\";\",decimal=\",\")\n",
    "x=Data.drop([\"y1\",\"y2\",\"y3\"],axis=1).values\n",
    "x = np.column_stack((x, np.ones(x.shape[0])*-1)) # Agregar los umbrales\n",
    "y=Data.drop([\"x1\",\"x2\"],axis=1).values\n",
    "np.random.seed(10)\n",
    "#l2_delta=l2_error*sigmoid(l2,deriv=True)\n",
    "#w0"
   ]
  },
  {
   "cell_type": "code",
   "execution_count": 8,
   "metadata": {
    "scrolled": true
   },
   "outputs": [
    {
     "name": "stdout",
     "output_type": "stream",
     "text": [
      "Error: 0.4915221479564818\n",
      "Error: 0.06806100656147568\n",
      "Error: 0.03974112717267228\n",
      "Error: 0.030733758123757726\n",
      "Error: 0.025925660719867082\n",
      "Error: 0.022828805640017942\n",
      "Error: 0.020623811643242406\n",
      "Error: 0.01895208538261193\n",
      "Error: 0.017628800895150797\n",
      "Error: 0.01654783304791674\n",
      "Error: 0.015643361227226024\n",
      "Error: 0.014872124188615138\n",
      "Error: 0.014204370240340899\n",
      "Error: 0.013618880014614029\n",
      "Error: 0.013100060119708675\n",
      "Error: 0.012636161225186968\n",
      "Error: 0.012218140365234663\n",
      "Error: 0.011838909253388525\n",
      "Error: 0.011492822857044099\n",
      "Error: 0.011175322482100855\n",
      "[[ 0.98568755  0.00978345  0.0119597 ]\n",
      " [ 0.98877576  0.01187026  0.00756515]\n",
      " [ 0.00793524  0.98699124  0.01055759]\n",
      " [ 0.0080638   0.98743062  0.01030637]\n",
      " [ 0.01143335  0.00901908  0.98626004]\n",
      " [ 0.01104865  0.00883445  0.98729298]]\n"
     ]
    }
   ],
   "source": [
    "# Definición de la función de transferencia\n",
    "def sigmoid ( x,deriv=False):\n",
    "    if deriv == True:\n",
    "        return x*(1-x)\n",
    "    return 1/(1+np.exp(-x))\n",
    "\n",
    "# Definición de los pesos iniciales\n",
    "\n",
    "w0 = 2*np.random.random((2,3)) - 1 # Entrada-Oculta\n",
    "w0 = np.row_stack((w0, np.ones(3)*-1))\n",
    "\n",
    "w1=2*np.random.random((3,3))-1 # Oculta-Salida\n",
    "a=[]\n",
    "for i in range(2000):\n",
    "    l0=x\n",
    "    l1=sigmoid(np.dot(l0,w0))\n",
    "    l2=sigmoid(np.dot(l1,w1))\n",
    "    \n",
    "    l2_error= y-l2\n",
    "    \n",
    "    if (i%100)==0:\n",
    "        a.append(np.mean(np.abs(l2_error)))\n",
    "        print(f'Error: {np.mean(np.abs(l2_error))}')\n",
    "    l2_delta=l2_error*sigmoid(l2,deriv=True)\n",
    "    \n",
    "    # Contribución de L1 a L2\n",
    "    \n",
    "    l1_error=np.dot(l2_delta,w1.T)\n",
    "    l1_delta=l1_error*sigmoid(l1,deriv=True)\n",
    "    \n",
    "    # Actualización de pesos\n",
    "    \n",
    "    w1+=np.dot(l1.T,l2_delta)\n",
    "    w0+=np.dot(l0.T, l1_delta)\n",
    "\n",
    "#print(\"Despúes de entrenar\")\n",
    "print(l2)\n"
   ]
  },
  {
   "cell_type": "code",
   "execution_count": 7,
   "metadata": {},
   "outputs": [
    {
     "data": {
      "image/png": "[encoded data removed]",
      "text/plain": [
       "<matplotlib.figure.Figure at 0x170b834c358>"
      ]
     },
     "metadata": {},
     "output_type": "display_data"
    }
   ],
   "source": [
    "plt.plot(a)\n",
    "plt.show()"
   ]
  }
 ],
 "metadata": {
  "kernelspec": {
   "display_name": "Python 3",
   "language": "python",
   "name": "python3"
  },
  "language_info": {
   "codemirror_mode": {
    "name": "ipython",
    "version": 3
   },
   "file_extension": ".py",
   "mimetype": "text/x-python",
   "name": "python",
   "nbconvert_exporter": "python",
   "pygments_lexer": "ipython3",
   "version": "3.6.1"
  }
 },
 "nbformat": 4,
 "nbformat_minor": 2
}
