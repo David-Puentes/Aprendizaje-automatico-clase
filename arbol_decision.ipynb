{
 "cells": [
  {
   "cell_type": "code",
   "execution_count": 2,
   "metadata": {},
   "outputs": [],
   "source": [
    "import numpy as np\n",
    "import pandas as pd\n",
    "from sklearn import tree\n",
    "from sklearn.tree import DecisionTreeRegressor\n",
    "from sklearn.externals.six import StringIO\n",
    "from math import sqrt\n",
    "import matplotlib.pyplot as plt"
   ]
  },
  {
   "cell_type": "code",
   "execution_count": 3,
   "metadata": {},
   "outputs": [],
   "source": [
    "# Lectura de los datos\n",
    "loc=r\"winequality-red.csv\"\n",
    "data= pd.read_csv(loc,sep=\";\",)\n",
    "names=list(data.columns.values)\n",
    "label=list(data[\"quality\"])\n",
    "Xlist=(data.drop(\"quality\",1))\n",
    "Xlist=[Xlist.iloc[i] for i in range(len(Xlist))]\n",
    "\n",
    "nrows= len(Xlist)\n",
    "ncols=len(Xlist[0])\n",
    "\n",
    "wineTree=DecisionTreeRegressor(max_depth=4)\n",
    "wineTree.fit(Xlist, label)\n",
    "\n",
    "with open(\"arbol.dot\",\"w\") as f:\n",
    "    f= tree.export_graphviz(wineTree, out_file=f)"
   ]
  }
 ],
 "metadata": {
  "kernelspec": {
   "display_name": "Python 3",
   "language": "python",
   "name": "python3"
  },
  "language_info": {
   "codemirror_mode": {
    "name": "ipython",
    "version": 3
   },
   "file_extension": ".py",
   "mimetype": "text/x-python",
   "name": "python",
   "nbconvert_exporter": "python",
   "pygments_lexer": "ipython3",
   "version": "3.6.3"
  }
 },
 "nbformat": 4,
 "nbformat_minor": 2
}
